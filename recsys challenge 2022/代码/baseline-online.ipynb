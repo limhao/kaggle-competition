{
 "cells": [
  {
   "cell_type": "code",
   "execution_count": 1,
   "id": "a0e3e2cc",
   "metadata": {},
   "outputs": [],
   "source": [
    "import os\n",
    "import pandas as pd\n",
    "\n",
    "from datetime import datetime\n",
    "from tqdm import tqdm\n",
    "\n",
    "from collections import defaultdict\n",
    "import math\n",
    "import numpy as np"
   ]
  },
  {
   "cell_type": "code",
   "execution_count": null,
   "id": "ab3a1973",
   "metadata": {},
   "outputs": [],
   "source": []
  },
  {
   "cell_type": "markdown",
   "id": "e706c202",
   "metadata": {},
   "source": [
    "# 参考资料\n",
    "## KDD Debias\n",
    "- https://www.logicjake.xyz/2020/06/16/KDD-debias-TOP13/#排序\n",
    "- https://blog.csdn.net/fengdu78/article/details/106990993/\n",
    "- https://tianchi.aliyun.com/forum/postDetail?spm=5176.12586969.1002.12.6c3f29e8MNZSeb&postId=104936\n",
    "- https://tianchi.aliyun.com/forum/postDetail?postId=103530\n",
    "- https://zhuanlan.zhihu.com/p/137085716"
   ]
  },
  {
   "cell_type": "code",
   "execution_count": null,
   "id": "a374f0ff",
   "metadata": {},
   "outputs": [],
   "source": []
  }
 ],
 "metadata": {
  "kernelspec": {
   "display_name": "Python 3 (ipykernel)",
   "language": "python",
   "name": "python3"
  },
  "language_info": {
   "codemirror_mode": {
    "name": "ipython",
    "version": 3
   },
   "file_extension": ".py",
   "mimetype": "text/x-python",
   "name": "python",
   "nbconvert_exporter": "python",
   "pygments_lexer": "ipython3",
   "version": "3.7.10"
  }
 },
 "nbformat": 4,
 "nbformat_minor": 5
}
